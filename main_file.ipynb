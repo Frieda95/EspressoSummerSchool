{
 "cells": [
  {
   "cell_type": "markdown",
   "id": "1d953a52",
   "metadata": {},
   "source": [
    "## Expected prior knowledge\n",
    "To work with this tutorial, you should be familiar with the following topics:\n",
    "\n",
    "1. Setting up and running simulations in ESPResSo - creating particles, incorporating interactions.\n",
    "2. Basic knowledge of classical electrostatics: Surface charges, dipoles ;concepts of statistical mechanics,\n",
    "   Poisson-Boltzmann Equation.\n",
    "3. Reduced units, as described in the ESPResSo user guide https://espressomd.github.io/doc/introduction.html#on-units\n"
   ]
  },
  {
   "cell_type": "markdown",
   "id": "2a4353fb",
   "metadata": {},
   "source": [
    "##  Introduction\n",
    "#### This tutorial introduces some of the features of ESPResSo for simulating charges confined between two electrodes separated by a dielectric. In the first part we focus on a single ion pair interaction in  a narrow metallic slit-like confinement using the  ELCIC framework. Here, we test ELC against mean-field analytic solution for the electrostatic free energy of an ion-pair in a  charged slit formed by two infinitely extended, perfectly metallic walls. The pair interaction energy in this case is screened exponentially due to the presence of induced charges on the slit walls. The same induced charges at the metallic walls effectuates a net attractive force on the counterion when it approches the wall.\n",
    "#### In the second part, we simulate an electrolyte solution consiting monovalent ions between dielectric walls. In this case we emulate a certain surface charge densiy on both electrodes by applying a constant potential. This results in the accumulation of electrolyte ions towards opposite electrodes.  The density profile of the ions from each electrode is compared to the exact solvable analytical Poisson-Boltzmann solution (\"Gouy-Chapman  solution \") for a charged planar wall with added electrolyte solution.        "
   ]
  },
  {
   "cell_type": "markdown",
   "id": "b96ae08b",
   "metadata": {},
   "source": [
    "## Theoretical Background \n",
    "\n",
    "The normal component of electric field across a surface diving two dielectric media yields a discontinuity due to the presence of a finite surface charge density $(\\epsilon_1\\vec{E}_1 - \\epsilon_2\\vec{E}_2 ).\\hat{n}=-\\sigma(\\vec{r})$. This equation describes the jump in the electric field across the material surface due to dielectric interface. While in the case of non-polarizable materials this jump is only due to surface charges and the potential is continuous across the interface, for polarizable materials also the polarization field P will give a contribution.  In order to solve such a system having jump dielectric constant across a surface,one must know the electric fields on both sides. Another approach is to replace this two domain problem by an equivalent one without the dielectric jump. This is achieved by introducing an additional fictitious charge i.e an induced charge density $\\sigma_{ind}$ on the surface. With this method it is sufficient to know the electric field on one side of the interface and this is the well known \"method of image charges\". This method of an induced charge density at dielectric 2D interface is what is implemented in ELCIC to account for the dielectric contrast. \n",
    "\n"
   ]
  },
  {
   "cell_type": "markdown",
   "id": "10bbd2dd",
   "metadata": {},
   "source": [
    "Partially periodic ionic systems with dielectric interfaces is very often encountered in biomacromolecular and membrane studies. These system which usually consists of a confinement along one (z) direction where the confining boundary or interface imposes a dielectric discontinuity, while the other x-y directions are periodic and exhibit bulklike properties. The \"electrostatic layer correction” (ELC) method proposed by Holm et. al accounts for the periodic contributions in the constrained direction by evaluating a layer correction term growing linear with N, which then can be used with any 3-D Coulomb solvers. We here use P3M (particle-particle, particle-mesh), which scales with O(N ln N). Further ELC can be extended to implement the dielectric interfaces by using the method of image charges and this is the \"Electrostatic layer correction with image charges\" (ELCIC) approach used in this tutorial.\n",
    "  \n",
    "Note: Apart from ELCIC, ESPResSo also provides ICC method where we account for a set of spatially fixed ICC particles, whose initial charges are iterated over time until they correctly represent the influence of the dielectric discontinuity."
   ]
  },
  {
   "cell_type": "markdown",
   "id": "0729e7ca",
   "metadata": {},
   "source": [
    "First we import all ESPResSo features and external modules"
   ]
  },
  {
   "cell_type": "code",
   "execution_count": 1,
   "id": "f6f5d98a",
   "metadata": {},
   "outputs": [],
   "source": [
    "import espressomd\n",
    "import numpy as np\n",
    "import espressomd.electrostatics\n",
    "import espressomd.electrostatic_extensions\n",
    "from espressomd.interactions import *\n",
    "import espressomd.visualization\n",
    "import espressomd.observables\n",
    "import espressomd.accumulators\n",
    "from scipy import integrate\n",
    "from tqdm import tqdm\n",
    "import matplotlib.pyplot as plt\n",
    "from scipy.misc import derivative\n",
    "from scipy.special import *\n",
    "\n"
   ]
  },
  {
   "cell_type": "markdown",
   "id": "05ccead1",
   "metadata": {},
   "source": [
    "##  System setup \n",
    "## Part A: Ion-pair in a narrow metallic slit-like confinement \n",
    " \n",
    "We define system dimensions and some physical parameters related to length , time and energy scales of our system. All physical parameters are defined in reduced units of length ($\\sigma=1$; Particle size), mass ($m=1$; Particle mass), time ($t=0.005$) and elementary charge (e=1). Another important length scale is the Bjerrum Length which is the length  at which the electrostatic energy between two elementary charges is comparable to $k_BT$. Its defined as $l_B=\\frac{1}{4\\pi\\epsilon_0\\epsilon_rk_BT}$. \n",
    "In our case if we choose the ion size (sigma) in simulations equivalent to 0.3 nm in real units, then considering Bjerrum length of water at room temperature $l_B=0.71 nm$, we get $l_B\\sim 2.0$ in simulations units.\n",
    "\n",
    "\n"
   ]
  },
  {
   "cell_type": "code",
   "execution_count": 2,
   "id": "4747acbe",
   "metadata": {},
   "outputs": [],
   "source": [
    "#***************************************************\n",
    "#            System Setup\n",
    "#***************************************************\n",
    "\n",
    "# Box dimensions\n",
    "# To construct a narrow slit Lz << (Lx , Ly)\n",
    "box_l_x = 100.\n",
    "box_l_y = 100.\n",
    "box_l_z = 5.\n",
    "\n",
    "# ELC for 2D peridicity\n",
    "elc_gap = 95.0\n",
    "\n",
    "system = espressomd.System(box_l=[box_l_x, box_l_y, box_l_z+elc_gap])\n",
    "\n",
    "# System Time\n",
    "system.time_step = 0.01\n",
    "system.cell_system.skin = 0.4\n",
    "\n",
    "# Elementary charge \n",
    "q = np.array([1.0])                   "
   ]
  },
  {
   "cell_type": "markdown",
   "id": "7b24e8fd",
   "metadata": {},
   "source": [
    "About ELCIC....."
   ]
  },
  {
   "cell_type": "code",
   "execution_count": 3,
   "id": "43115124",
   "metadata": {},
   "outputs": [],
   "source": [
    "# Interaction Parameters: P3M with ELCIC\n",
    "\n",
    "Bjerrum_length = 2.0        # Electrostatic prefactor passed to P3M ; prefactor=lB KBT/e2                \n",
    "accuracy = 1e-6                   \n",
    "check_accuracy = 1e-6             \n",
    "delta_mid_top = -1.0   #(Fully metallic case both -1)                 \n",
    "delta_mid_bot = -1.0\n",
    "\n",
    "#Lennard-Jones  Parameters\n",
    "\n",
    "LJ_sigma=1.0\n",
    "LJ_epsilon=1.0"
   ]
  },
  {
   "cell_type": "markdown",
   "id": "28bd2c0e",
   "metadata": {},
   "source": [
    "Setting up the particles:\n",
    "\n",
    "Our system consitutes of an ion placed between two parallel dielectric walls such that the dielectric contrasts at the interface (i.e the wall) will effectuate a force jump on the particle near the walls. So in this case to account for the 2D periodicity of the charged confined system, we use the ELC in extension wih P3M.\n"
   ]
  },
  {
   "cell_type": "code",
   "execution_count": 4,
   "id": "9431d224",
   "metadata": {
    "scrolled": true
   },
   "outputs": [
    {
     "name": "stdout",
     "output_type": "stream",
     "text": [
      "Cation placed at position: [50.  50.   2.5]\n",
      "Anion placed at position: [50.  50.   3.5]\n"
     ]
    }
   ],
   "source": [
    "#Particle parameters\n",
    "\n",
    "types = {\"Cation\": 0, \"Anion\": 1  ,\"Electrodes\": 2}\n",
    "charges = {\"Cation\": q[0], \"Anion\": -q[0]  }\n",
    "minimum_distance_to_wall = 0.1\n",
    "distance_btw_ions = 1.0\n",
    "\n",
    "# **********CASE 1************************\n",
    "# Particle sitting at (x,y,z) and (x,y,z+1)\n",
    "# Shifted between z=0 to z=box_l_z\n",
    "\n",
    "#******************************************\n",
    "\n",
    "P1=system.part.add(pos=[box_l_x/2.0, box_l_y/2.0, box_l_z/2.0], q=charges[\"Cation\"])\n",
    "print(f\"Cation placed at position: {P1.pos}\")\n",
    "P2=system.part.add(pos=P1.pos + [0, 0, distance_btw_ions],q=charges[\"Anion\"])\n",
    "print(f\"Anion placed at position: {P2.pos}\")\n"
   ]
  },
  {
   "cell_type": "code",
   "execution_count": 5,
   "id": "e91c5167",
   "metadata": {},
   "outputs": [],
   "source": [
    "# Instantiating  electrostatic solver P3M-ELCIC\n",
    "\n",
    "potential_diff=0.0\n",
    "p3m = espressomd.electrostatics.P3M(prefactor=Bjerrum_length, accuracy=accuracy, mesh=[58, 58, 70], cao=4)\n",
    "elc = espressomd.electrostatics.ELC(actor=p3m,\n",
    "                                    gap_size=elc_gap,\n",
    "                                    const_pot=True,\n",
    "                                    pot_diff=potential_diff,\n",
    "                                    maxPWerror=check_accuracy,\n",
    "                                    delta_mid_bot=delta_mid_bot,\n",
    "                                    delta_mid_top=delta_mid_top)\n",
    "system.actors.add(elc)\n"
   ]
  },
  {
   "cell_type": "code",
   "execution_count": 6,
   "id": "405878b1",
   "metadata": {},
   "outputs": [],
   "source": [
    "# instantiating particle handles p1 and p2\n",
    "p1, p2 = system.part.all()\n",
    "\n",
    "zPos = np.linspace(minimum_distance_to_wall, box_l_z - minimum_distance_to_wall-distance_btw_ions  ,50)\n",
    "elc_forces = np.empty((len(zPos), 2))\n",
    "elc_energy = np.empty(len(zPos))\n",
    "\n",
    "# Shift particles from z=0 to z=box_l_z &\n",
    "# call integrator each time to obtain forces\n",
    "for i, z in enumerate(zPos):\n",
    "    pos = np.copy(p1.pos) \n",
    "    p1.pos = [pos[0], pos[1], z ]\n",
    "    pos = np.copy(p2.pos)\n",
    "    p2.pos = [pos[0], pos[1], z+distance_btw_ions ]\n",
    "    \n",
    "    system.integrator.run(0)\n",
    "    elc_forces[i, 0] = p1.f[2]\n",
    "    elc_forces[i, 1] = p2.f[2]\n",
    "    elc_energy[i] = system.analysis.energy()[\n",
    "                    \"total\"]     "
   ]
  },
  {
   "cell_type": "code",
   "execution_count": 7,
   "id": "a6d065f7",
   "metadata": {
    "scrolled": false
   },
   "outputs": [
    {
     "data": {
      "image/png": "[encoded data removed]",
      "text/plain": [
       "<Figure size 432x288 with 1 Axes>"
      ]
     },
     "metadata": {
      "needs_background": "light"
     },
     "output_type": "display_data"
    },
    {
     "data": {
      "image/png": "[encoded data removed]",
      "text/plain": [
       "<Figure size 432x288 with 1 Axes>"
      ]
     },
     "metadata": {
      "needs_background": "light"
     },
     "output_type": "display_data"
    }
   ],
   "source": [
    "#******************************************************\n",
    "#   Forces acting on both ions in the z-direction\n",
    "#   due to induced surface charges at the dielectric \n",
    "#   interface.\n",
    "#******************************************************\n",
    "\n",
    "# Force Vs. z\n",
    "plt.plot(zPos, elc_forces[:, 0], marker='o', label=\" p1\")\n",
    "plt.plot(zPos, elc_forces[:, 1], marker='o', label=\" p2\")\n",
    "plt.xlabel('z')\n",
    "plt.ylabel('Fz(z)')\n",
    "plt.legend()\n",
    "plt.show()\n",
    "\n",
    "\n",
    "# Energy Vs. z\n",
    "plt.plot(zPos, elc_energy,  color='red' , label=\"sim\",  marker='o')\n",
    "plt.xlabel('z')\n",
    "plt.ylabel('U(z)')\n",
    "plt.show()"
   ]
  },
  {
   "cell_type": "code",
   "execution_count": 8,
   "id": "3d54ccf9",
   "metadata": {},
   "outputs": [],
   "source": [
    "#******************CASE 3 *****************************************\n",
    "#   Interaction energy of a dipole confined between dielectric walls \n",
    "#   as a function of separation R  \n",
    "# *****************************************************************\n",
    "\n",
    "# instantiating particle handles p1 and p2\n",
    "p1, p2 = system.part.all()\n",
    "\n",
    "xPos = np.linspace(distance_btw_ions , box_l_x / 2.0  ,50)\n",
    "elc_forces_axial = np.empty((len(xPos), 2))\n",
    "elc_energy_axial = np.empty(len(xPos))\n",
    "\n",
    "for i, x in enumerate(xPos):\n",
    "    p1.pos = [0, box_l_y/2.0, box_l_z/2.0]\n",
    "    p2.pos = [x, box_l_y/2.0, box_l_z/2.0]\n",
    "    \n",
    "    system.integrator.run(0)\n",
    "    elc_forces_axial[i, 0] = p1.f[0]\n",
    "    elc_forces_axial[i, 1] = p2.f[0]\n",
    "    elc_energy_axial[i] = system.analysis.energy()[\n",
    "                    \"total\"]"
   ]
  },
  {
   "cell_type": "markdown",
   "id": "f23e3c81",
   "metadata": {},
   "source": [
    "#### Comparison with Mean field solution in an infinitely elongated narrow slit \n",
    "\n",
    "The electrostatic energy between two point charges in a slit-shaped charged nanopore \n",
    "formed by two infinitely extended, perfectly metallic walls is given as [Chem. Rev. 2023](https://pubs.acs.org/doi/pdf/10.1021/acs.chemrev.2c00728)  \n",
    "$$ \\beta\\phi_{12}(z) = \\frac{\\beta q_1q_2}{\\pi\\epsilon_0\\epsilon_rL}\\sum_{n=1}^{\\infty}K_0(\\pi nr/L)$$\n",
    "$$ = \\frac{4l_BZ_1Z_2}{L}\\sum_{n=1}^{\\infty}K_0(\\pi nr/L) $$\n",
    "\n",
    "Here, $\\beta = 1/k_BT$, $q_1$, $q_2$ are the ion charges with valencies $Z_1$, $Z_2$, respectively. $K_0(x)$\n",
    "is the zero-order modified Bessel function of the second kind, $L$ is the slit width and $\\epsilon_0$ is the \n",
    "vaccum permittivity.\n",
    "\n"
   ]
  },
  {
   "cell_type": "code",
   "execution_count": 9,
   "id": "f648818c",
   "metadata": {
    "scrolled": false
   },
   "outputs": [
    {
     "data": {
      "image/png": "[encoded data removed]",
      "text/plain": [
       "<Figure size 432x288 with 1 Axes>"
      ]
     },
     "metadata": {
      "needs_background": "light"
     },
     "output_type": "display_data"
    },
    {
     "data": {
      "image/png": "[encoded data removed]",
      "text/plain": [
       "<Figure size 432x288 with 1 Axes>"
      ]
     },
     "metadata": {
      "needs_background": "light"
     },
     "output_type": "display_data"
    }
   ],
   "source": [
    "# ******************************************************\n",
    "#                Analytical mean  PB Solution to CASE 3\n",
    "#              (  Force on a dipole at separation R  )\n",
    "#*******************************************************\n",
    "\n",
    "analytic_forces=[]\n",
    "analytic_energy=[]\n",
    "analytic_forces_axial = []\n",
    "analytic_energy_axial = []\n",
    "\n",
    "epsilon=1.0 \n",
    "prefactor_energy = 4.0*Bjerrum_length*q[0]*-q[0]/(box_l_z)#.reshape(-1, 1))\n",
    "\n",
    "for i in xPos:\n",
    "    force_anl=0\n",
    "    energy_anl=0\n",
    "    for j in range(1, 100):\n",
    "        K_0=kn(0,(np.pi *j*i/box_l_z))\n",
    "        energy_anl  +=  K_0 \n",
    "    #   force_anl +=  j * np.pi / box_l_z * kn(1, (np.pi * j * i / box_l_z))\n",
    "     \n",
    "    analytic_energy.append(prefactor_energy*energy_anl )\n",
    "    #analytic_forces.append(-prefactor_force*force_anl )\n",
    "analytic_forces = -np.gradient(analytic_energy, xPos)\n",
    "\n",
    "plt.plot(xPos, elc_forces_axial[:, 0], marker='o', label=\"p1\")\n",
    "plt.plot(xPos, elc_forces_axial[:, 1], marker='o', label=\"p2\")\n",
    "plt.plot(xPos, analytic_forces, label=\"analytic\", linestyle=\"dashed\", color=\"blue\")\n",
    "plt.legend()\n",
    "plt.xlabel('R')\n",
    "plt.ylabel('F(R)')\n",
    "plt.show()\n",
    "\n",
    "plt.xlabel('R')\n",
    "plt.ylabel('U(R)')\n",
    "plt.plot(xPos, elc_energy_axial,  color='red' , label=\"sim\",  marker='o')\n",
    "plt.plot(xPos, analytic_energy, label=\"analytic\", linestyle=\"dashed\", color=\"blue\")\n",
    "plt.legend()\n",
    "plt.show()"
   ]
  },
  {
   "cell_type": "markdown",
   "id": "971f26b5",
   "metadata": {},
   "source": [
    "<font color='red'> Explain discrepancy in the potential energy term in terms of self energy ...???\n"
   ]
  },
  {
   "cell_type": "markdown",
   "id": "366e0e13",
   "metadata": {},
   "source": [
    "## Part B: Ionic solution between dielectric walls with applied potential difference\n",
    "\n",
    "Understanding the electric double layer (EDL) is crucial for the study\n",
    "of a variety of systems, including colloidal suspensions, charged biological\n",
    "macromolecules and membranes. Poisson-Boltzmann (PB) theory based on a mean-field formalism properly describes the behavior of Coulomb fluids composed of monovalent ions at low concentrations in the\n",
    "vicinity of weakly charged interfaces. However, for strongly charged systems, where correlation and finite size effects begin to dominate the system dynamics, the PB theory falls inadequate. Our goal in this module is to demonstrate how coarse grained implicit solvent simualtions can corroborate some of these approximate theories.\n",
    "\n",
    "Here, we look at the ion density profile between two dielectric walls with constant potential applied to them. \n",
    "In this case the inclusion of dielectric inhomogeneities demands a detailed calculation of the image\n",
    "effects that involve the full solution of the Poisson equation on the fly. This is dealt in a computational cost effective way using ELCIC method, to treat the image charge effect in the presence of 2D dielectric bounding\n",
    "interfaces.  \n"
   ]
  },
  {
   "cell_type": "markdown",
   "id": "8a10cec4",
   "metadata": {},
   "source": [
    "Next, we define the simulation units and set the parameters which define our system and the interactions:"
   ]
  },
  {
   "cell_type": "code",
   "execution_count": 10,
   "id": "2c8202a4",
   "metadata": {
    "scrolled": false
   },
   "outputs": [
    {
     "name": "stdout",
     "output_type": "stream",
     "text": [
      "A Debye length of 38.42971511474027 (in simulation units) demands the channel width to be atleast 10 times db in order to obtain a decoupled ion density profile from each electrodes by retrieving a proper bulk regime towards the channel centre.\n",
      "For 200 ionpairs a density of 0.001003884215720744 mMol corresponds to a box of dimension 157,157,600\n"
     ]
    }
   ],
   "source": [
    "#*****************************************************************************\n",
    "#    .System setup \n",
    "#*****************************************************************************\n",
    "\n",
    "# Remove previously added actors (p3m, elc)\n",
    "system.actors.clear()\n",
    "system.constraints.clear()\n",
    "\n",
    "# Remove the existing Cation and Anion Ionpair. \n",
    "system.part.all().remove()\n",
    "\n",
    "# System Resize\n",
    "# Keep the density fixed to rescale the system for changing N values if needed \n",
    "\n",
    "n_ionpairs=200\n",
    "sigma_in_SI_units = 3.55e-10 # sigma in SI units\n",
    "avo = 6.022e+23 # Avogadro's number in SI units\n",
    "PREF = 1 / (10**3 * avo *sigma_in_SI_units**3) # prefactor to convert from 1/sigma^3 to  mol/L\n",
    "rho_pb_in_SI_units=0.001# Density (N+ + N-)/V  mol/L\n",
    "rho_pb=rho_pb_in_SI_units/PREF#0.00003#0.8/(30**3.0)\n",
    "p_factor=4.0*np.pi*Bjerrum_length\n",
    "kappa = np.sqrt( p_factor* rho_pb) \n",
    "debye_length = 1/kappa\n",
    "print(f\"A Debye length of {debye_length} (in simulation units)\", \\\n",
    "       \"demands the channel width to be atleast 10 times db in order to obtain a decoupled\", \\\n",
    "       \"ion density profile from each electrodes by retrieving a proper bulk regime towards the channel centre.\")\n",
    "       \n",
    "Lz_box=600\n",
    "boxL_3 = int(((2.0*n_ionpairs) /rho_pb ))\n",
    "Lx_box = int((boxL_3/Lz_box)**(1.0/2.0))\n",
    "\n",
    "box_l_x = Lx_box\n",
    "box_l_y = Lx_box\n",
    "box_l_z = Lz_box\n",
    "elc_gap = int(0.3 * box_l_z)\n",
    "system.box_l = [box_l_x, box_l_y, box_l_z+elc_gap]\n",
    "system.time_step = 0.005\n",
    "print(f\"For {n_ionpairs} ionpairs a density of {(n_ionpairs*2.0*PREF)/(box_l_x*box_l_y*box_l_z)}\", \\\n",
    "      f\"mMol corresponds to a box of dimension {box_l_x},{box_l_y},{box_l_z}\") \n",
    "\n",
    "\n"
   ]
  },
  {
   "cell_type": "markdown",
   "id": "941f8af9",
   "metadata": {},
   "source": [
    "After defining the simulation parameters, we set up the system that we want to simulate. We setup an electrolyte solution made of monovalent cations (Np) and anions (Np) between two metallic electrodes at constant potential. Firstly we add two wall constraints at the 0 and Lz to stop particles from crossing the boundaries. Refer [espressomd.constraints.ShapeBasedConstraint](https://espressomd.github.io/doc/espressomd.html#espressomd.constraints.ShapeBasedConstraint)\n",
    "in the documentation to set up constraints. Then we place all the ion pairs at random positions between the electrodes.  "
   ]
  },
  {
   "cell_type": "code",
   "execution_count": 11,
   "id": "fb3f646f",
   "metadata": {},
   "outputs": [],
   "source": [
    "# ADDING ELECTRODES\n",
    "wall_offset=0\n",
    "\n",
    "# (BOTTOM WALL) normal pointing in the +z direction, at z=wall_offset \n",
    "floor = espressomd.shapes.Wall(normal=[0, 0, 1], dist=wall_offset)\n",
    "c1 = system.constraints.add(\n",
    "    particle_type=types[\"Electrodes\"], penetrable=True, only_positive=False, shape=floor)\n",
    "\n",
    "# (TOP WALL) normal pointing in the -z direction, at z=box_l_z-wall_offset\n",
    "ceil = espressomd.shapes.Wall(normal=[0, 0, -1], dist=-(box_l_z - wall_offset))   \n",
    "c2 = system.constraints.add(\n",
    "    particle_type=types[\"Electrodes\"], penetrable=True, only_positive=False, shape=ceil)\n",
    "\n",
    "\n",
    "# ADDING IONPAIRS \n",
    "offset=10 # To stop the particle to cross the wall at integration \n",
    "Init_part_btw_z1=0+offset \n",
    "Init_part_btw_z2=box_l_z-offset\n",
    "ion_pos=np.empty((3),dtype=float)\n",
    "\n",
    "for i in range (n_ionpairs):\n",
    "    ion_pos[0] = np.random.random(1) * system.box_l[0]\n",
    "    ion_pos[1] = np.random.random(1) * system.box_l[1]\n",
    "    ion_pos[2] = np.random.random(1) * (Init_part_btw_z2-Init_part_btw_z1) + Init_part_btw_z1\n",
    "    system.part.add(pos=ion_pos, type=types[\"Cation\"]  , q=charges[\"Cation\"])\n",
    "    \n",
    "for i in range (n_ionpairs):\n",
    "    ion_pos[0] = np.random.random(1) * system.box_l[0]\n",
    "    ion_pos[1] = np.random.random(1) * system.box_l[1]\n",
    "    ion_pos[2] = np.random.random(1) * (Init_part_btw_z2-Init_part_btw_z1) + Init_part_btw_z1\n",
    "    system.part.add(pos=ion_pos, type=types[\"Anion\"]  , q=charges[\"Anion\"])\n",
    "    \n",
    "    \n",
    "\n",
    "\n",
    "    "
   ]
  },
  {
   "cell_type": "markdown",
   "id": "5f495b6a",
   "metadata": {},
   "source": [
    "Now, we add interactions:\n",
    "For excluded volume interactions, we add WCA kind of potential. For the (2D+h) electrostatic with dielectrics \n",
    "we choose the ELCIC  with P3M.\n",
    "\n",
    "Refer to the documentation to set up the [WCA interaction](https://espressomd.github.io/doc/espressomd.html#espressomd.interactions.WCAInteraction) under [Non-bonded](https://espressomd.github.io/doc/inter_non-bonded.html) section.\n",
    "\n",
    "Refer the documentation to set up [ELCIC with P3M](https://espressomd.github.io/doc/electrostatics.html#electrostatic-layer-correction-elc) under the [electrostatics](https://espressomd.github.io/doc/electrostatics.html) section. "
   ]
  },
  {
   "cell_type": "code",
   "execution_count": 12,
   "id": "2dc66982",
   "metadata": {},
   "outputs": [],
   "source": [
    "#***************************************************************\n",
    "#                   Adding WCA interactions \n",
    "#***************************************************************\n",
    "\n",
    "for  key, val in types.items():\n",
    "    for key1, val1 in types.items():\n",
    "        system.non_bonded_inter[val, val1].wca.set_params(epsilon=LJ_epsilon, sigma=LJ_sigma)\n",
    "\n",
    "#***************************************************************\n",
    "#                 Adding ELC-P3M electrostatic solver   \n",
    "#***************************************************************\n",
    "\n",
    "potential_diff=4.0\n",
    "accuracy = 1e-3\n",
    "p3m = espressomd.electrostatics.P3MGPU(prefactor=Bjerrum_length, accuracy=accuracy, mesh=[58, 58, 70], cao=4)\n",
    "elc = espressomd.electrostatics.ELC(actor=p3m,\n",
    "                                    gap_size=elc_gap,\n",
    "                                    const_pot=True,\n",
    "                                    pot_diff=potential_diff,\n",
    "                                    maxPWerror=check_accuracy,\n",
    "                                    delta_mid_bot=delta_mid_bot,\n",
    "                                    delta_mid_top=delta_mid_top)\n",
    "system.actors.add(elc)"
   ]
  },
  {
   "cell_type": "markdown",
   "id": "8db649d1",
   "metadata": {},
   "source": [
    "Before we can start the simulation, we need to remove the overlap between particles to avoid large forces which would crash the simulation. For this, we use the steepest descent integrator with a relative convergence criterion for forces and energies.\n",
    "\n"
   ]
  },
  {
   "cell_type": "code",
   "execution_count": 13,
   "id": "0dc70900",
   "metadata": {},
   "outputs": [],
   "source": [
    "#  Relax the overlaps with steepest descent\n",
    "\n",
    "system.integrator.set_steepest_descent(f_max=10, gamma=50.0,\n",
    "                                       max_displacement=0.02)\n",
    "system.integrator.run(1000)\n",
    "system.integrator.set_vv() # Switch bach to velocity Verlet \n",
    "\n",
    "\n",
    "# Add thermostat \n",
    "thermostat_seed = np.random.randint(np.random.randint(1000000))\n",
    "system.thermostat.set_langevin(kT=1.0, gamma=0.1, seed=thermostat_seed)"
   ]
  },
  {
   "cell_type": "markdown",
   "id": "9704705b",
   "metadata": {},
   "source": [
    "After removing the overlaps, the next step is to equiliberate the system via integrator calls [system.integrator.run()](https://espressomd.github.io/doc/integration.html?highlight=integrator%20run) sufficiently longly to relax the system to its equilibrium state before production runs. However, looking at the elongated time for our system of N=200 ions to reach their stable configurations, we have provided a file of equiliberated data. The evolution of the ion density profile is plotted below to give an idea of the equiliberation timescales here."
   ]
  },
  {
   "cell_type": "code",
   "execution_count": 14,
   "id": "5f9e9fd9",
   "metadata": {},
   "outputs": [
    {
     "data": {
      "image/png": "[encoded data removed]",
      "text/plain": [
       "<Figure size 432x288 with 1 Axes>"
      ]
     },
     "metadata": {
      "needs_background": "light"
     },
     "output_type": "display_data"
    }
   ],
   "source": [
    "read_density = np.loadtxt('chh_V2_density_max_N50.dat')\n",
    "plt.plot(read_density[:,0], read_density[:,1], marker='o', markersize=5)\n",
    "#plt.xlim((-1000, 20000))\n",
    "plt.xlabel(\"t\")\n",
    "plt.ylabel(r\"$\\rho_{max}$\")\n",
    "\n",
    "plt.show()"
   ]
  },
  {
   "cell_type": "code",
   "execution_count": 15,
   "id": "8fec4673",
   "metadata": {},
   "outputs": [
    {
     "name": "stderr",
     "output_type": "stream",
     "text": [
      "100%|███████████████████████████████████████████████████████████████████████████████████████████████████| 5000/5000 [08:58<00:00,  9.28it/s]\n"
     ]
    }
   ],
   "source": [
    "equib_samples=2000\n",
    "for tm in tqdm(range(equib_samples)):\n",
    "        system.integrator.run(50)\n"
   ]
  },
  {
   "cell_type": "code",
   "execution_count": 16,
   "id": "9d4ed426",
   "metadata": {},
   "outputs": [
    {
     "name": "stderr",
     "output_type": "stream",
     "text": [
      "\r",
      "  0%|                                                                                                              | 0/9000 [00:00<?, ?it/s]"
     ]
    },
    {
     "name": "stdout",
     "output_type": "stream",
     "text": [
      "No Equiliberation !!\n"
     ]
    },
    {
     "name": "stderr",
     "output_type": "stream",
     "text": [
      "100%|███████████████████████████████████████████████████████████████████████████████████████████████████| 9000/9000 [17:14<00:00,  8.70it/s]"
     ]
    },
    {
     "name": "stdout",
     "output_type": "stream",
     "text": [
      " \n",
      " - - - > Analysis Density Profile \n"
     ]
    },
    {
     "name": "stderr",
     "output_type": "stream",
     "text": [
      "\n"
     ]
    }
   ],
   "source": [
    "\n",
    "    #*************************************************************\n",
    "#  PART 2:       SETTING ACCUMULATORS FOR DENSITY PROFILE AT GIVEN E for equiliberation with desired potential\n",
    "#**************************************************************\n",
    "# PRODUCTION RUNS\n",
    "Ion_id=[]\n",
    "Cations = system.part.select(type=types[\"Cation\"])\n",
    "Cations_id=[]\n",
    "for i in Cations:\n",
    "    Cations_id.append(i.id)\n",
    "    Ion_id.append(i.id)\n",
    "    \n",
    "Anions = system.part.select(type=types[\"Anion\"])\n",
    "Anions_id=[]\n",
    "for i in Anions:\n",
    "    Anions_id.append(i.id)\n",
    "    Ion_id.append(i.id)\n",
    "    \n",
    "\n",
    "  \n",
    "# Accumulator 1 : observable::Density_Profile\n",
    "density_profile = espressomd.observables.DensityProfile(ids=Cations_id,\n",
    "                                                       n_x_bins=1,\n",
    "                                                       n_y_bins=1,\n",
    "                                                       n_z_bins=2*int(system.box_l[2] - elc_gap),\n",
    "                                                       min_x=0,\n",
    "                                                       min_y=0,\n",
    "                                                       min_z=0,\n",
    "                                                       max_x=system.box_l[0],\n",
    "                                                       max_y=system.box_l[1],\n",
    "                                                       max_z=system.box_l[2] - elc_gap)\n",
    "\n",
    "density_accumulator = espressomd.accumulators.MeanVarianceCalculator(obs=density_profile, delta_N=20)\n",
    "\n",
    "\n",
    "density_profile_1 = espressomd.observables.DensityProfile(ids=Anions_id,\n",
    "                                                       n_x_bins=1,\n",
    "                                                       n_y_bins=1,\n",
    "                                                       n_z_bins=2*int(system.box_l[2] - elc_gap),\n",
    "                                                       min_x=0,\n",
    "                                                       min_y=0,\n",
    "                                                       min_z=0,\n",
    "                                                       max_x=system.box_l[0],\n",
    "                                                       max_y=system.box_l[1],\n",
    "                                                       max_z=system.box_l[2] - elc_gap)\n",
    "\n",
    "density_accumulator_1 = espressomd.accumulators.MeanVarianceCalculator(obs=density_profile_1, delta_N=20)\n",
    "\n",
    "\n",
    "#icc_plate_1 = system.part.select(lambda p: p.id >= icc.first_id and p.id<(nicc_per_electrode+icc.first_id))\n",
    "#icc_plate_2 = system.part.select(lambda p: p.id >= (nicc_per_electrode+icc.first_id) and p.id<(2*nicc_per_electrode+icc.first_id))\n",
    "num_of_samples=9000#400000\n",
    "Pot_applied=np.linspace(0, 10.0, 10 )\n",
    "\n",
    "sigma_U=[]\n",
    "U=[]\n",
    "for i in range(1):\n",
    "    #electric_field.E=[0, 0, i]\n",
    "    system.actors.remove(elc)\n",
    "    potential_diff=2.0\n",
    "    p3m = espressomd.electrostatics.P3MGPU(prefactor=Bjerrum_length, accuracy=accuracy, mesh=[58, 58, 70], cao=4)\n",
    "    elc = espressomd.electrostatics.ELC(actor=p3m,\n",
    "                                    gap_size=elc_gap,\n",
    "                                    const_pot=True,\n",
    "                                    pot_diff=potential_diff,\n",
    "                                    maxPWerror=check_accuracy,\n",
    "                                    delta_mid_bot=delta_mid_bot,\n",
    "                                    delta_mid_top=delta_mid_top)\n",
    "    system.actors.add(elc)\n",
    "    #system.constraints.remove(electric_field)\n",
    "    #electric_field = espressomd.constraints.LinearElectricPotential(E=[0.,0.,i], phi0=0.)\n",
    "      \n",
    "\n",
    "    #system.constraints.add(electric_field)\n",
    "    acc_sigma = 0# accumulator\n",
    "    counter_sigma = 0# Counter\n",
    "    #system.integrator.run(25000)##tau  = 25000 steps, 125 time units\n",
    "\n",
    "    print(\"No Equiliberation !!\")\n",
    "    \n",
    "    #**************************\n",
    "    #Accumulators Instantiated \n",
    "    #**************************\n",
    "    \n",
    "    system.auto_update_accumulators.clear()\n",
    "    system.auto_update_accumulators.add(density_accumulator)\n",
    "    system.auto_update_accumulators.add(density_accumulator_1)\n",
    "    \n",
    "    #******************************\n",
    "    #Accumulators Intantiation Done\n",
    "    #******************************\n",
    "    times=[]\n",
    "    e_total=[]\n",
    "    times_rho_max=[]\n",
    "    rho_max=[]\n",
    "    for tm in tqdm(range(num_of_samples)):\n",
    "        system.integrator.run(50)\n",
    "        #acc_sigma = acc_sigma +  sum(icc_plate_1.q)/(box_l**2)\n",
    "        #counter_sigma +=1\n",
    "        if(tm%10==0):\n",
    "            times.append( system.time)\n",
    "            energy = system.analysis.energy()\n",
    "            e_total.append( energy['total'])\n",
    "            \n",
    "        \n",
    "            \n",
    "        if(tm%50==0):\n",
    "            cation_profile_mean = density_accumulator.mean()[0, 0, :]\n",
    "            zs = density_profile.bin_centers()[0, 0, :, 2]\n",
    "            anion_profile_mean = density_accumulator_1.mean()[0, 0, :]\n",
    "            zs_1 = density_profile_1.bin_centers()[0, 0, :, 2]\n",
    "            rho_max.append(anion_profile_mean[5])\n",
    "            times_rho_max.append( system.time)\n",
    "            np.savetxt('chh_trial_cation_profile_N50.dat', np.column_stack((zs,cation_profile_mean)),fmt='%.7f\\t%.7f\\t', delimiter='\\t')\n",
    "            np.savetxt('chh_trial_anion_profile_N50.dat', np.column_stack((zs_1,anion_profile_mean)),fmt='%.7f\\t%.7f\\t', delimiter='\\t')\n",
    "    \n",
    "            np.savetxt('chh_trial_charge_density_profile_N50.dat', np.column_stack((zs, (q[0]*cation_profile_mean)+(-q[0]*anion_profile_mean))),fmt='%.7f\\t%.7f\\t', delimiter='\\t')\n",
    "            np.savetxt('chh_trial_energy_equib_N50.dat', np.column_stack((times,e_total )),fmt='%.7f\\t%.7f\\t', delimiter='\\t')\n",
    "\n",
    "            np.savetxt('chh_trial_density_max_N50.dat', np.column_stack((times_rho_max,rho_max )),fmt='%.7f\\t%.7f\\t', delimiter='\\t')\n",
    "\n",
    "   \n",
    "    print ( \" \\n - - - > Analysis Density Profile \" )\n",
    "\n",
    "    \n",
    "    #print(f\"Sigma for potential  {i} : \", (acc_sigma/counter_sigma))\n",
    "    \n",
    "    \n",
    "    \n",
    "    \n",
    "\n",
    "    #sigma_U.append(acc_sigma/counter_sigma)\n",
    "    #U.append(i)\n",
    "    \n",
    "\n",
    "    "
   ]
  },
  {
   "cell_type": "code",
   "execution_count": 19,
   "id": "a7b93e3f",
   "metadata": {},
   "outputs": [
    {
     "data": {
      "image/png": "[encoded data removed]",
      "text/plain": [
       "<Figure size 432x288 with 1 Axes>"
      ]
     },
     "metadata": {
      "needs_background": "light"
     },
     "output_type": "display_data"
    }
   ],
   "source": [
    "read_density_1 = np.loadtxt('chh_trial_density_max_N50.dat')\n",
    "#plt.plot(read_density[:,0], read_density[:,1], marker='o', markersize=5)\n",
    "plt.plot(read_density_1[:,0], read_density_1[:,1], marker='o', markersize=5)\n",
    "\n",
    "#plt.xlim((-1000, 20000))\n",
    "plt.xlabel(\"t\")\n",
    "plt.ylabel(r\"$\\rho_{max}$\")\n",
    "\n",
    "plt.show()"
   ]
  },
  {
   "cell_type": "code",
   "execution_count": 22,
   "id": "fadb24db",
   "metadata": {},
   "outputs": [
    {
     "name": "stderr",
     "output_type": "stream",
     "text": [
      "100%|███████████████████████████████████████████████████████████████████████████████████████████████████| 9000/9000 [17:49<00:00,  8.41it/s]"
     ]
    },
    {
     "name": "stdout",
     "output_type": "stream",
     "text": [
      " \n",
      " - - - > Analysis Density Profile \n"
     ]
    },
    {
     "name": "stderr",
     "output_type": "stream",
     "text": [
      "\n"
     ]
    }
   ],
   "source": [
    "for tm in tqdm(range(9000)):\n",
    "    system.integrator.run(50)\n",
    "        #acc_sigma = acc_sigma +  sum(icc_plate_1.q)/(box_l**2)\n",
    "        #counter_sigma +=1\n",
    "    if(tm%10==0):\n",
    "        times.append( system.time)\n",
    "        energy = system.analysis.energy()\n",
    "        e_total.append( energy['total'])\n",
    "            \n",
    "        \n",
    "            \n",
    "    if(tm%50==0):\n",
    "        cation_profile_mean = density_accumulator.mean()[0, 0, :]\n",
    "        zs = density_profile.bin_centers()[0, 0, :, 2]\n",
    "        anion_profile_mean = density_accumulator_1.mean()[0, 0, :]\n",
    "        zs_1 = density_profile_1.bin_centers()[0, 0, :, 2]\n",
    "        rho_max.append(anion_profile_mean[5])\n",
    "        times_rho_max.append( system.time)\n",
    "        np.savetxt('chh_trial_cation_profile_N50.dat', np.column_stack((zs,cation_profile_mean)),fmt='%.7f\\t%.7f\\t', delimiter='\\t')\n",
    "        np.savetxt('chh_trial_anion_profile_N50.dat', np.column_stack((zs_1,anion_profile_mean)),fmt='%.7f\\t%.7f\\t', delimiter='\\t')\n",
    "    \n",
    "        np.savetxt('chh_trial_charge_density_profile_N50.dat', np.column_stack((zs, (q[0]*cation_profile_mean)+(-q[0]*anion_profile_mean))),fmt='%.7f\\t%.7f\\t', delimiter='\\t')\n",
    "        np.savetxt('chh_trial_energy_equib_N50.dat', np.column_stack((times,e_total )),fmt='%.7f\\t%.7f\\t', delimiter='\\t')\n",
    "\n",
    "        np.savetxt('chh_trial_density_max_N50.dat', np.column_stack((times_rho_max,rho_max )),fmt='%.7f\\t%.7f\\t', delimiter='\\t')\n",
    "\n",
    "   \n",
    "print ( \" \\n - - - > Analysis Density Profile \" )\n",
    "\n",
    "    "
   ]
  },
  {
   "cell_type": "code",
   "execution_count": 23,
   "id": "1604fdd7",
   "metadata": {},
   "outputs": [
    {
     "data": {
      "image/png": "[encoded data removed]",
      "text/plain": [
       "<Figure size 432x288 with 1 Axes>"
      ]
     },
     "metadata": {
      "needs_background": "light"
     },
     "output_type": "display_data"
    }
   ],
   "source": [
    "read_density = np.loadtxt('chh_V2_density_max_N50.dat')\n",
    "read_density_1 = np.loadtxt('chh_trial_density_max_N50.dat')\n",
    "#plt.plot(read_density[:,0], read_density[:,1], marker='o', markersize=5)\n",
    "plt.plot(read_density_1[:,0], read_density_1[:,1], marker='o', markersize=5)\n",
    "\n",
    "#plt.xlim((-1000, 20000))\n",
    "plt.xlabel(\"t\")\n",
    "plt.ylabel(r\"$\\rho_{max}$\")\n",
    "\n",
    "plt.show()"
   ]
  },
  {
   "cell_type": "markdown",
   "id": "b7833ef4",
   "metadata": {},
   "source": [
    "# "
   ]
  }
 ],
 "metadata": {
  "kernelspec": {
   "display_name": "Python 3 (ipykernel)",
   "language": "python",
   "name": "python3"
  },
  "language_info": {
   "codemirror_mode": {
    "name": "ipython",
    "version": 3
   },
   "file_extension": ".py",
   "mimetype": "text/x-python",
   "name": "python",
   "nbconvert_exporter": "python",
   "pygments_lexer": "ipython3",
   "version": "3.10.12"
  }
 },
 "nbformat": 4,
 "nbformat_minor": 5
}
